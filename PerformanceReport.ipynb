{
 "cells": [
  {
   "attachments": {},
   "cell_type": "markdown",
   "metadata": {},
   "source": [
    "# Performance Report\n",
    "Name: Tony Nguyen\n",
    "\n",
    "Class: CPSC 122 01\n",
    "\n",
    "Date: February 20, 2022\n",
    "\n",
    "Programming Assignment 2\n",
    "\n",
    "Description: This program implements several sorting algorithm to compare for efficiency\n",
    "\n",
    "Note: I decided to use milliseconds instead of seconds for execution time measurement becuase it is more accurate"
   ]
  },
  {
   "cell_type": "code",
   "execution_count": 1,
   "metadata": {},
   "outputs": [
    {
     "data": {
      "text/plain": [
       "<module 'utils' from '/Users/tony/Documents/C++/CPSC122/PA2/utils.py'>"
      ]
     },
     "execution_count": 1,
     "metadata": {},
     "output_type": "execute_result"
    }
   ],
   "source": [
    "import utils\n",
    "import importlib\n",
    "importlib.reload(utils)"
   ]
  },
  {
   "attachments": {},
   "cell_type": "markdown",
   "metadata": {},
   "source": [
    "## Loading CSV Files\n",
    "From four CSV files that measure execution time and operation count of four sorting algorithms:\n",
    "* Selection sort\n",
    "* Bubble sort\n",
    "* Insertion sort\n",
    "* Shell sort\n",
    "\n",
    "I loaded into four DataFrames."
   ]
  },
  {
   "cell_type": "code",
   "execution_count": 2,
   "metadata": {},
   "outputs": [],
   "source": [
    "df_selection = utils.data_loading(\"selection_sort_results.csv\")\n",
    "df_bubble = utils.data_loading(\"bubble_sort_results.csv\")\n",
    "df_insertion = utils.data_loading(\"insertion_sort_results.csv\")\n",
    "df_shell = utils.data_loading(\"shell_sort_results.csv\")"
   ]
  },
  {
   "attachments": {},
   "cell_type": "markdown",
   "metadata": {},
   "source": [
    "## Plots\n",
    "### Sorted Vectors"
   ]
  },
  {
   "cell_type": "code",
   "execution_count": 3,
   "metadata": {},
   "outputs": [
    {
     "data": {
      "image/png": "[encoded data removed]",
      "text/plain": [
       "<Figure size 720x576 with 1 Axes>"
      ]
     },
     "metadata": {
      "needs_background": "light"
     },
     "output_type": "display_data"
    },
    {
     "data": {
      "text/plain": [
       "<Figure size 432x288 with 0 Axes>"
      ]
     },
     "metadata": {},
     "output_type": "display_data"
    }
   ],
   "source": [
    "%matplotlib inline\n",
    "utils.draw_plot(df_selection, df_bubble, df_insertion, df_shell, \"Sorted\", \"Milliseconds\")"
   ]
  },
  {
   "cell_type": "code",
   "execution_count": 4,
   "metadata": {},
   "outputs": [
    {
     "data": {
      "text/plain": [
       "Vector configuration\n",
       "Sorted N=500        1.0\n",
       "Sorted N=1000       7.0\n",
       "Sorted N=5000     133.0\n",
       "Sorted N=10000    779.0\n",
       "Name: Milliseconds, dtype: float64"
      ]
     },
     "execution_count": 4,
     "metadata": {},
     "output_type": "execute_result"
    }
   ],
   "source": [
    "sort_type = \"Sorted\"\n",
    "df_selection[df_selection[\"Sort type\"] == sort_type][\"Milliseconds\"]"
   ]
  }
 ],
 "metadata": {
  "kernelspec": {
   "display_name": "base",
   "language": "python",
   "name": "python3"
  },
  "language_info": {
   "codemirror_mode": {
    "name": "ipython",
    "version": 3
   },
   "file_extension": ".py",
   "mimetype": "text/x-python",
   "name": "python",
   "nbconvert_exporter": "python",
   "pygments_lexer": "ipython3",
   "version": "3.9.12"
  },
  "orig_nbformat": 4,
  "vscode": {
   "interpreter": {
    "hash": "5ccfa51b6a2c575f9ec4b5f633399d96d9a08ae2d3de4a2b338c15ea2dbb5975"
   }
  }
 },
 "nbformat": 4,
 "nbformat_minor": 2
}
